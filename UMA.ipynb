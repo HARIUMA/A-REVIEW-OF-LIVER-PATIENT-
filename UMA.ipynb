{
  "cells": [
    {
      "cell_type": "markdown",
      "metadata": {
        "id": "view-in-github",
        "colab_type": "text"
      },
      "source": [
        "<a href=\"https://colab.research.google.com/github/HARIUMA/A-REVIEW-OF-LIVER-PATIENT-/blob/main/UMA.ipynb\" target=\"_parent\"><img src=\"https://colab.research.google.com/assets/colab-badge.svg\" alt=\"Open In Colab\"/></a>"
      ]
    },
    {
      "cell_type": "markdown",
      "metadata": {
        "id": "95dMfAxrrWo8"
      },
      "source": [
        "**importing the libraries**"
      ]
    },
    {
      "cell_type": "code",
      "execution_count": null,
      "metadata": {
        "id": "fudYWxpkraNo"
      },
      "outputs": [],
      "source": [
        "import pandas as pd\n",
        "import numpy as np\n",
        "import seaborn as sns\n",
        "import matplotlib.pyplot as plt\n",
        "from  matplotlib import rcParams\n",
        "from scipy import stats"
      ]
    },
    {
      "cell_type": "code",
      "execution_count": null,
      "metadata": {
        "id": "AJfPzGZ4Oxo3"
      },
      "outputs": [],
      "source": [
        "data = pd.read_csv('E:/Datascience/Datasets/indian_liver_patient.csv')"
      ]
    },
    {
      "cell_type": "code",
      "execution_count": null,
      "metadata": {
        "id": "MDy8pyn6PfZ4"
      },
      "outputs": [],
      "source": [
        "data.head()"
      ]
    },
    {
      "cell_type": "markdown",
      "metadata": {
        "id": "IUogmyfWPpZ9"
      },
      "source": [
        "**Handling missing values**"
      ]
    },
    {
      "cell_type": "code",
      "execution_count": null,
      "metadata": {
        "id": "1c6rZ6GePvaM"
      },
      "outputs": [],
      "source": [
        "data.info()"
      ]
    },
    {
      "cell_type": "code",
      "execution_count": null,
      "metadata": {
        "id": "1HQcrw5BP1qi"
      },
      "outputs": [],
      "source": [
        "data.isnull().any()"
      ]
    },
    {
      "cell_type": "code",
      "execution_count": null,
      "metadata": {
        "id": "dQUFkfnAP--n"
      },
      "outputs": [],
      "source": [
        "data.isnull().num()"
      ]
    },
    {
      "cell_type": "code",
      "execution_count": null,
      "metadata": {
        "id": "9oXj0RwUQJYu"
      },
      "outputs": [],
      "source": [
        "data['Albumin_and_Globulin_Ratio']=data.fillna(data['Albumin_and_Globumin_Ratio'].mode()[0])\n",
        "data.isnull().sum()"
      ]
    },
    {
      "cell_type": "markdown",
      "metadata": {
        "id": "6lZvnGpeRBB6"
      },
      "source": [
        "**Handling Categorical Values**"
      ]
    },
    {
      "cell_type": "code",
      "execution_count": null,
      "metadata": {
        "id": "3jqHohY3RKdV"
      },
      "outputs": [],
      "source": [
        "from sklearn.preprocessing import LabelEncoder\n",
        "lc = LabelEncoder()\n",
        "data['gender']= lc.fit_transform(data['gender'])"
      ]
    },
    {
      "cell_type": "markdown",
      "metadata": {
        "id": "AoK_Xln1SLhs"
      },
      "source": [
        "**Descriptive statistical**"
      ]
    },
    {
      "cell_type": "code",
      "execution_count": null,
      "metadata": {
        "id": "dxsxKPhuScli"
      },
      "outputs": [],
      "source": [
        "data.describe()"
      ]
    },
    {
      "cell_type": "markdown",
      "metadata": {
        "id": "4bUjbmcPStE5"
      },
      "source": [
        "**Univariate anatysis**"
      ]
    },
    {
      "cell_type": "code",
      "execution_count": null,
      "metadata": {
        "id": "XaNH4bawSzQP"
      },
      "outputs": [],
      "source": [
        "sns.distplot(data['age'])\n",
        "plt.title('Age Distribution Graph')\n",
        "plt.show()\n"
      ]
    },
    {
      "cell_type": "markdown",
      "metadata": {
        "id": "XePEO2frT6Vr"
      },
      "source": [
        "**Bivariate analysis**"
      ]
    },
    {
      "cell_type": "code",
      "execution_count": null,
      "metadata": {
        "id": "XCixh47YUBUD"
      },
      "outputs": [],
      "source": [
        "sns.countplot(data['outcome'], hue=data['gender'])\n"
      ]
    },
    {
      "cell_type": "markdown",
      "metadata": {
        "id": "g1eD-nPkVKDl"
      },
      "source": [
        "**Multivariate analysis**"
      ]
    },
    {
      "cell_type": "code",
      "execution_count": null,
      "metadata": {
        "id": "WVouQcCrVSpx"
      },
      "outputs": [],
      "source": [
        "plt.figure(figsize=(10,7))\n",
        "\n",
        "sns.heatmap(df.corr(),annot=True)"
      ]
    },
    {
      "cell_type": "code",
      "execution_count": null,
      "metadata": {
        "id": "hb_T0DqWV_4W"
      },
      "outputs": [],
      "source": [
        "from sklearn.preprocessing import scale\n",
        "X_scaled=pd.DataFrame (scale(X), columns=X.columns)"
      ]
    },
    {
      "cell_type": "code",
      "execution_count": null,
      "metadata": {
        "id": "oYrcR4gJWpKE"
      },
      "outputs": [],
      "source": [
        "X_scaled.head()"
      ]
    },
    {
      "cell_type": "markdown",
      "metadata": {
        "id": "BkDnwRdzWxvp"
      },
      "source": [
        "**splitting data into train and test**"
      ]
    },
    {
      "cell_type": "code",
      "execution_count": null,
      "metadata": {
        "id": "Wg3ngiq-W_NC"
      },
      "outputs": [],
      "source": [
        "X=data.iloc[:,:-1]\n",
        "Y=data.outcome"
      ]
    },
    {
      "cell_type": "code",
      "execution_count": null,
      "metadata": {
        "id": "6-0hxmTgXVIC"
      },
      "outputs": [],
      "source": [
        "from sklearn.model_selection import train_test_split"
      ]
    },
    {
      "cell_type": "code",
      "execution_count": null,
      "metadata": {
        "id": "8_lZLT2lXmof"
      },
      "outputs": [],
      "source": [
        "X_train, X_test, Y_train, Y_test=train_test_split(X_scaled, Y, test_size=0.2,random_state=42)"
      ]
    },
    {
      "cell_type": "markdown",
      "metadata": {
        "id": "cZVgwzDiYf0j"
      },
      "source": [
        "**Handling Imbalance Data**"
      ]
    },
    {
      "cell_type": "code",
      "execution_count": null,
      "metadata": {
        "colab": {
          "base_uri": "https://localhost:8080/"
        },
        "id": "oSJJdokaYl8v",
        "outputId": "6ee55c0a-19d7-415c-98c6-b604eaf75550"
      },
      "outputs": [
        {
          "output_type": "stream",
          "name": "stdout",
          "text": [
            "Looking in indexes: https://pypi.org/simple, https://us-python.pkg.dev/colab-wheels/public/simple/\n",
            "Collecting imblearn\n",
            "  Downloading imblearn-0.0-py2.py3-none-any.whl (1.9 kB)\n",
            "Requirement already satisfied: imbalanced-learn in /usr/local/lib/python3.9/dist-packages (from imblearn) (0.10.1)\n",
            "Requirement already satisfied: numpy>=1.17.3 in /usr/local/lib/python3.9/dist-packages (from imbalanced-learn->imblearn) (1.22.4)\n",
            "Requirement already satisfied: scikit-learn>=1.0.2 in /usr/local/lib/python3.9/dist-packages (from imbalanced-learn->imblearn) (1.2.2)\n",
            "Requirement already satisfied: joblib>=1.1.1 in /usr/local/lib/python3.9/dist-packages (from imbalanced-learn->imblearn) (1.2.0)\n",
            "Requirement already satisfied: threadpoolctl>=2.0.0 in /usr/local/lib/python3.9/dist-packages (from imbalanced-learn->imblearn) (3.1.0)\n",
            "Requirement already satisfied: scipy>=1.3.2 in /usr/local/lib/python3.9/dist-packages (from imbalanced-learn->imblearn) (1.10.1)\n",
            "Installing collected packages: imblearn\n",
            "Successfully installed imblearn-0.0\n"
          ]
        }
      ],
      "source": [
        "pip install imblearn"
      ]
    },
    {
      "cell_type": "code",
      "execution_count": null,
      "metadata": {
        "id": "EolTTjK4Yw_e"
      },
      "outputs": [],
      "source": [
        "from imblearn.over_sampling import SMOTE\n",
        "smote=SMOTE()"
      ]
    },
    {
      "cell_type": "code",
      "execution_count": null,
      "metadata": {
        "colab": {
          "base_uri": "https://localhost:8080/",
          "height": 165
        },
        "id": "Yrn3_-QIZGxg",
        "outputId": "5391a94c-1052-4a38-f444-7de3f6d9227f"
      },
      "outputs": [
        {
          "output_type": "error",
          "ename": "NameError",
          "evalue": "ignored",
          "traceback": [
            "\u001b[0;31m---------------------------------------------------------------------------\u001b[0m",
            "\u001b[0;31mNameError\u001b[0m                                 Traceback (most recent call last)",
            "\u001b[0;32m<ipython-input-32-d5dac33bebc0>\u001b[0m in \u001b[0;36m<cell line: 1>\u001b[0;34m()\u001b[0m\n\u001b[0;32m----> 1\u001b[0;31m \u001b[0mx_train_smote\u001b[0m\u001b[0;34m,\u001b[0m \u001b[0my_train_smote\u001b[0m \u001b[0;34m=\u001b[0m \u001b[0msmote\u001b[0m\u001b[0;34m.\u001b[0m\u001b[0mfit_resample\u001b[0m\u001b[0;34m(\u001b[0m\u001b[0mX_train\u001b[0m\u001b[0;34m,\u001b[0m \u001b[0mY_train\u001b[0m\u001b[0;34m)\u001b[0m\u001b[0;34m\u001b[0m\u001b[0;34m\u001b[0m\u001b[0m\n\u001b[0m",
            "\u001b[0;31mNameError\u001b[0m: name 'X_train' is not defined"
          ]
        }
      ],
      "source": [
        "x_train_smote, y_train_smote = smote.fit_resample(X_train, Y_train)"
      ]
    },
    {
      "cell_type": "code",
      "execution_count": null,
      "metadata": {
        "id": "bTkwaXAPZo0W"
      },
      "outputs": [],
      "source": [
        "y_train_smote.value_counts"
      ]
    },
    {
      "cell_type": "markdown",
      "metadata": {
        "id": "zl9g7t3JaBKr"
      },
      "source": [
        "**Random Forest model**"
      ]
    },
    {
      "cell_type": "code",
      "execution_count": null,
      "metadata": {
        "id": "eSPou7msaNni"
      },
      "outputs": [],
      "source": [
        "from sklearn.ensemble import RandomForestClassifier\n",
        "model1=RandomForestClassifier()\n",
        "model1.fit(X_train_smote, y_train_smote)\n",
        "y_predict=model1.predit(X_test)\n",
        "rfc1=accuracy_score(y_test, y_predict)\n",
        "rfc1\n",
        "pd.crosstab(y_test, y_predict)\n",
        "print(classification_report(y_test, y_predict))"
      ]
    },
    {
      "cell_type": "markdown",
      "metadata": {
        "id": "kSz-Jl7fcJMT"
      },
      "source": [
        "**Decision tree model**"
      ]
    },
    {
      "cell_type": "code",
      "execution_count": null,
      "metadata": {
        "colab": {
          "background_save": true
        },
        "id": "Q5MC4tukcTl0"
      },
      "outputs": [],
      "source": [
        "from sklearn.tree import DecisionTreeClassifier\n",
        "model4=DecisionTreeClassifier()\n",
        "model4.fit(X_train_smote, Y_train_smote)\n",
        "y_predict=model4.predict(X_test)\n",
        "dtc1=accuracy_score(Y_test, y_predict)\n",
        "dtc1\n",
        "pd.crosstab(Y_test, y_predict)\n",
        "print(classification_report(Y_test, y_predict))\n"
      ]
    },
    {
      "cell_type": "markdown",
      "metadata": {
        "id": "PQ0jglWSeVar"
      },
      "source": [
        "**KNN model**"
      ]
    },
    {
      "cell_type": "code",
      "execution_count": null,
      "metadata": {
        "colab": {
          "background_save": true
        },
        "id": "mkioyJuueZzq"
      },
      "outputs": [],
      "source": [
        "from sklearn.neighbors import KNeighborsClassifier\n",
        "model2=KNeighborsClassifier()\n",
        "model2.fit(X_train_smote, Y_train_smote)\n",
        "Y_predict=model2.predict(X_test)\n",
        "knn1=(accuracy_score(Y_test, Y_predict))\n",
        "pd.crosstab(Y_test, Y_predict)\n",
        "print(Classification_report(Y_test, Y_predict))"
      ]
    },
    {
      "cell_type": "markdown",
      "source": [
        "**Logistic Regression model**"
      ],
      "metadata": {
        "id": "5SrAvoOZwZET"
      }
    },
    {
      "cell_type": "code",
      "source": [
        "from sklearn.linear_model import LogisticRegreession \n",
        "model5=LogisticRegreesion()\n",
        "model5.fit(x_train_smote, y_train_smote)\n",
        "Y_predict=model5.predict(X_test)\n",
        "logil=accuracy_score(y_test, y_ppredict)\n",
        "logil\n",
        "pd.crosstab(y_test, y_predict)\n",
        "print(classification_report(y_test, y_predict))"
      ],
      "metadata": {
        "id": "dfO_gKNVwipT"
      },
      "execution_count": null,
      "outputs": []
    },
    {
      "cell_type": "markdown",
      "source": [
        "**ANN model**"
      ],
      "metadata": {
        "id": "8P6ALiRvyD6M"
      }
    },
    {
      "cell_type": "code",
      "source": [
        "import  tensorflow.keras\n",
        "from  tensorflow .keras.models  import  Sequential\n",
        "from  tensorflow.keras.layers  import Dense\n"
      ],
      "metadata": {
        "id": "CxPVN0-JyHrc"
      },
      "execution_count": null,
      "outputs": []
    },
    {
      "cell_type": "code",
      "source": [
        "classifier=sequential()"
      ],
      "metadata": {
        "id": "Z0pJBw3Rynen"
      },
      "execution_count": null,
      "outputs": []
    },
    {
      "cell_type": "code",
      "source": [
        "classifier.add(Dense(units=100, activation=’relu’, imput_dim=10))"
      ],
      "metadata": {
        "id": "tcgiJB9CytKX"
      },
      "execution_count": null,
      "outputs": []
    },
    {
      "cell_type": "code",
      "source": [
        "classifier.add(Dense(units=50, activation=’relu’))"
      ],
      "metadata": {
        "id": "APfe05U7y1-v"
      },
      "execution_count": null,
      "outputs": []
    },
    {
      "cell_type": "code",
      "source": [
        "classifier.add(Dense(units=1, activation=’sigmoid’))\n",
        "\n"
      ],
      "metadata": {
        "id": "vZ3qnHd5y9TS"
      },
      "execution_count": null,
      "outputs": []
    },
    {
      "cell_type": "code",
      "source": [
        "classifier.compile(optimizer=’adam’, loss=’binary_crossentropy’, metrics=[‘accracy’])"
      ],
      "metadata": {
        "id": "jVAv-xxxzAF1"
      },
      "execution_count": null,
      "outputs": []
    },
    {
      "cell_type": "code",
      "source": [
        "model_history=classifier.fit(x_train, y_train, batch_size=100, validation_split=0.2, epochs=100)"
      ],
      "metadata": {
        "id": "eGmBxB6wzLJ6"
      },
      "execution_count": null,
      "outputs": []
    },
    {
      "cell_type": "markdown",
      "source": [
        "**Testing the model**"
      ],
      "metadata": {
        "id": "RoGUg_PvzS-q"
      }
    },
    {
      "cell_type": "code",
      "source": [
        "model4.predict([[50,1,1.2,0.3,150,70,80,7.2,3.4,0.8]])\n",
        "\n"
      ],
      "metadata": {
        "id": "Wa3oUFkKzYRh"
      },
      "execution_count": null,
      "outputs": []
    },
    {
      "cell_type": "code",
      "source": [
        "model1.predict([[50,1,1.2,0.8,150,70,80,7.2,3.4,0.8]])"
      ],
      "metadata": {
        "id": "wMkBBKVCzhfC"
      },
      "execution_count": null,
      "outputs": []
    },
    {
      "cell_type": "code",
      "source": [
        "classifier.save(\"liver.h5\")"
      ],
      "metadata": {
        "id": "LGZdZ5gfzmdk"
      },
      "execution_count": null,
      "outputs": []
    },
    {
      "cell_type": "code",
      "source": [
        "y_pred=classifier.predict(x_test)"
      ],
      "metadata": {
        "id": "1T_U5CXl0K8Y"
      },
      "execution_count": null,
      "outputs": []
    },
    {
      "cell_type": "code",
      "source": [
        "y_pred "
      ],
      "metadata": {
        "id": "zljk1w2Y0RmC"
      },
      "execution_count": null,
      "outputs": []
    },
    {
      "cell_type": "code",
      "source": [
        " y_pred=(y_pred>0.5)"
      ],
      "metadata": {
        "id": "vGoZX9ae0Xdi"
      },
      "execution_count": null,
      "outputs": []
    },
    {
      "cell_type": "code",
      "source": [
        "y_pred"
      ],
      "metadata": {
        "id": "wa02dWcw0c0F"
      },
      "execution_count": null,
      "outputs": []
    },
    {
      "cell_type": "code",
      "source": [
        "def predict_exit(sample_value):\n",
        "\tsample_value=np.array(sample_value)\n",
        "\tsample_value=sample_value.reshape(1,-1)\n",
        "\tsample_value-scale(sample_value)\n",
        "\treturn calssificer.predict(sample_value)\n",
        "\n"
      ],
      "metadata": {
        "id": "ZExovkIh0lqf"
      },
      "execution_count": null,
      "outputs": []
    },
    {
      "cell_type": "code",
      "source": [
        "sample_value[[50,1,1.2,0.8,150,70,80,7.2,3.4,0.8]]\n",
        "if predit_exit(sample_value)>0.5:\n",
        " \tprint('Prediction:Liver Patient’)\n",
        "else:\n",
        "  print('prediction:Healthy’)\n"
      ],
      "metadata": {
        "id": "DrTStuwi0wTy"
      },
      "execution_count": null,
      "outputs": []
    },
    {
      "cell_type": "markdown",
      "source": [
        "**compare the model**"
      ],
      "metadata": {
        "id": "aCKOzEAU1jrp"
      }
    },
    {
      "cell_type": "code",
      "source": [
        "acc_smotes=[['KNN Classifier’,knn1], [‘RandomForestClassifier’, rfc1], [‘DecisionTreelassifier’, dtc1], [‘LogisticRegression’, logil]]\n",
        "Liverpatient_pred=pd.DataFrame(acc_smote, columns=[‘classification models’, ‘accuracy_score’]\n",
        "Liverpatient_pred\n"
      ],
      "metadata": {
        "id": "l3SRAuBn1pOd"
      },
      "execution_count": null,
      "outputs": []
    },
    {
      "cell_type": "code",
      "source": [
        "Plt.figure(figsize=(7,5))\n",
        "Plt.xticks(rotation=90)\n",
        "Plt.title('classification model5 & accuracy scores after SMOTE’, fontsize=18)\n",
        "Sns.barplot(x=”classificationmodels”, y=”accuracy_score”, data=liverpatient_pred, palette=”set2”)\n"
      ],
      "metadata": {
        "id": "jpUQl30l2LID"
      },
      "execution_count": null,
      "outputs": []
    },
    {
      "cell_type": "code",
      "source": [
        "from sklearn.ensemble import ExtraTreeClassifier\n",
        "model=ExtraTreeClassifier()\n",
        "model.fit(x,y)\n"
      ],
      "metadata": {
        "id": "IYSyWT8j2pqL"
      },
      "execution_count": null,
      "outputs": []
    },
    {
      "cell_type": "code",
      "source": [
        "model.feature_importances_"
      ],
      "metadata": {
        "id": "1CXcR0BU247e"
      },
      "execution_count": null,
      "outputs": []
    },
    {
      "cell_type": "code",
      "source": [
        "dd=pd.DataFrame(model.feature_importances_, index=X.columns).sort_values(0,ascending=False)\n",
        "dd\n"
      ],
      "metadata": {
        "id": "pdAASYMV2_Bp"
      },
      "execution_count": null,
      "outputs": []
    },
    {
      "cell_type": "markdown",
      "source": [
        "**Identifying Important Features**"
      ],
      "metadata": {
        "id": "EfHkgmz83515"
      }
    },
    {
      "cell_type": "code",
      "source": [
        "dd.plot(kind=’barh’, figsize=(7,6))\n",
        "plt.title(“FEATURE IMPORTANCE”, fontsize=14)\n"
      ],
      "metadata": {
        "id": "VhDixb2R4AuQ"
      },
      "execution_count": null,
      "outputs": []
    },
    {
      "cell_type": "markdown",
      "source": [
        "**save the best model**"
      ],
      "metadata": {
        "id": "mRxSU8_R4LNg"
      }
    },
    {
      "cell_type": "code",
      "source": [
        "import joblib\n",
        "joblib.dump(model1,'ETC.pkl')"
      ],
      "metadata": {
        "id": "PjOMnpme4PpV"
      },
      "execution_count": null,
      "outputs": []
    }
  ],
  "metadata": {
    "colab": {
      "provenance": [],
      "authorship_tag": "ABX9TyOR4MVli87rTRGn/1ifDwV7",
      "include_colab_link": true
    },
    "kernelspec": {
      "display_name": "Python 3",
      "name": "python3"
    },
    "language_info": {
      "name": "python"
    }
  },
  "nbformat": 4,
  "nbformat_minor": 0
}